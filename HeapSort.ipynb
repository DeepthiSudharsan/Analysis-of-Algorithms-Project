{
 "cells": [
  {
   "cell_type": "code",
   "execution_count": 1,
   "metadata": {},
   "outputs": [
    {
     "data": {
      "text/plain": [
       "Intitializing Scala interpreter ..."
      ]
     },
     "metadata": {},
     "output_type": "display_data"
    },
    {
     "data": {
      "text/plain": [
       "Spark Web UI available at http://LAPTOP-OIARJUGD:4040\n",
       "SparkContext available as 'sc' (version = 3.1.1, master = local[*], app id = local-1621495112443)\n",
       "SparkSession available as 'spark'\n"
      ]
     },
     "metadata": {},
     "output_type": "display_data"
    },
    {
     "data": {
      "text/plain": [
       "import java.io._\r\n"
      ]
     },
     "execution_count": 1,
     "metadata": {},
     "output_type": "execute_result"
    }
   ],
   "source": [
    "import java.io._ "
   ]
  },
  {
   "cell_type": "code",
   "execution_count": 2,
   "metadata": {},
   "outputs": [
    {
     "data": {
      "text/plain": [
       "main: (args: Array[String])Unit\r\n",
       "sort: (a: Array[Int])Unit\r\n",
       "buildHeap: (a: Array[Int], m: Int)Unit\r\n",
       "heapify: (a: Array[Int], loc: Int, lastLeaf: Int)Unit\r\n",
       "left: (loc: Int)Int\r\n",
       "right: (loc: Int)Int\r\n",
       "swap: (a: Array[Int], i: Int, j: Int)Unit\r\n",
       "mess: Array[Int] = Array(3, 9, 8, 13, 2, 5, 4)\r\n"
      ]
     },
     "execution_count": 2,
     "metadata": {},
     "output_type": "execute_result"
    }
   ],
   "source": [
    "\n",
    "def main(args: Array[String]): Unit = {\n",
    "    var mess = Array(3, 9, 8, 13, 2, 5, 4);\n",
    "\n",
    "    sort(mess)\n",
    "   // buildHeap(mess, mess.length-1)\n",
    "\n",
    "    mess.foreach( println )\n",
    "  }                                               //> main: (args: Array[String])Unit\n",
    "\n",
    "  def sort(a: Array[Int]): Unit = {\n",
    "    var m = a.length - 1\n",
    "    buildHeap(a, m)\n",
    "    while (m >= 1) {\n",
    "      swap(a, 0, m)\n",
    "      m-=1\n",
    "      heapify(a, 0, m)\n",
    "    }\n",
    "  }                                               //> sort: (a: Array[Int])Unit\n",
    "\n",
    "  def buildHeap(a: Array[Int], m: Int): Unit = {\n",
    "    for (i <- m/2 to 0 by -1) {\n",
    "      heapify(a, i, m)\n",
    "    }\n",
    "  }                                               //> buildHeap: (a: Array[Int], m: Int)Unit\n",
    "\n",
    "\n",
    "\n",
    "\n",
    "/*\n",
    "i=3    heap(a,3,6)=> l=6,r=>7 max=3\n",
    "\n",
    "*/\n",
    "\n",
    "// Array(3, 9, 8, 13, 2, 5, 4)\n",
    "  /**Pushes an illegally located element down the heap to restore heap property.*/\n",
    "  \n",
    "  // A== 3 ,1 ,2\n",
    "  \n",
    "  def heapify(a: Array[Int], loc: Int, lastLeaf: Int): Unit = {\n",
    "    val l = left(loc) //2\n",
    "    val r = right(loc)//3\n",
    "\n",
    "    var max = loc // 1\n",
    "\n",
    "    if(l <= lastLeaf && a(l) > a(max))\n",
    "    max = l\n",
    "    if(r <= lastLeaf && a(r) > a(max))\n",
    "    max = r\n",
    "\n",
    "    if(max != loc) {\n",
    "      swap(a, max, loc)\n",
    "      heapify(a, max, lastLeaf)\n",
    "    }\n",
    "  }                                               //> heapify: (a: Array[Int], loc: Int, lastLeaf: Int)Unit\n",
    "\n",
    "  /**Returns position of left child (possibly empty). */\n",
    "  def left(loc: Int): Int = {\n",
    "    return 2*loc\n",
    "  }                                               //> left: (loc: Int)Int\n",
    "\n",
    "  /**Returns position of right child (possibly empty). */\n",
    "  def right(loc: Int): Int = {\n",
    "    return 2*loc+1\n",
    "  }                                               //> right: (loc: Int)Int\n",
    "\n",
    "  def swap(a: Array[Int], i: Int, j:Int): Unit = {\n",
    "    val staging = a(i)\n",
    "    a(i) = a(j)\n",
    "    a(j) = staging\n",
    "  }                                               //> swap: (a: Array[Int], i: Int, j: Int)Unit\n",
    "\n",
    "    var mess = Array(3, 9, 8, 13, 2, 5, 4);       //> mess  : Array[Int] = Array(3, 9, 8, 13, 2, 5, 4)\n",
    "\n"
   ]
  },
  {
   "cell_type": "code",
   "execution_count": 3,
   "metadata": {},
   "outputs": [],
   "source": [
    "sort(mess)"
   ]
  },
  {
   "cell_type": "code",
   "execution_count": 4,
   "metadata": {},
   "outputs": [
    {
     "data": {
      "text/plain": [
       "generate: (n: Int)Array[Int]\r\n"
      ]
     },
     "execution_count": 4,
     "metadata": {},
     "output_type": "execute_result"
    }
   ],
   "source": [
    "def generate(n:Int):Array[Int]=\n",
    "{\n",
    "val r = new scala.util.Random\n",
    "var l: List[Int] = List()\n",
    "\n",
    "for( x<- 1 to n )\n",
    "{\n",
    "    l=r.nextInt(100000) ::l    \n",
    "}\n",
    "var temp=l.toArray\n",
    "temp\n",
    "}"
   ]
  },
  {
   "cell_type": "code",
   "execution_count": 5,
   "metadata": {},
   "outputs": [
    {
     "data": {
      "text/plain": [
       "fileObject: java.io.File = HeapSort_Analysis.csv\r\n",
       "printWriter: java.io.PrintWriter = java.io.PrintWriter@746d59e6\r\n",
       "valRange: Array[Int] = Array(10, 50, 100, 200, 500, 1000, 5000, 10000, 50000, 100000, 200000, 300000, 500000, 1000000, 5000000, 10000000)\r\n"
      ]
     },
     "execution_count": 5,
     "metadata": {},
     "output_type": "execute_result"
    }
   ],
   "source": [
    "var fileObject = new File(\"HeapSort_Analysis.csv\" )  \n",
    "val printWriter = new PrintWriter(fileObject)       \n",
    " printWriter.write(\"No of elements\"+\",\"+\"time\"+\"\\n\") \n",
    "\n",
    "val valRange=Array(10,50,100,200,500,1000,5000,10000,50000,100000,200000,300000,500000,1000000,5000000,10000000)\n",
    "for(i<-0 to valRange.length-1)\n",
    "{\n",
    "    var data = generate(valRange(i))\n",
    "    var start = System.currentTimeMillis()\n",
    "   sort(data)\n",
    "    var end = System.currentTimeMillis()\n",
    "    var difference = end - start\n",
    "    var time=difference\n",
    "    printWriter.write(valRange(i).toString+\",\"+time.toString+\"\\n\")  // Writing to the file  \n",
    "           // Closing printwriter     \n",
    "}\n",
    "\n",
    "printWriter.close()  "
   ]
  },
  {
   "cell_type": "code",
   "execution_count": null,
   "metadata": {},
   "outputs": [],
   "source": []
  }
 ],
 "metadata": {
  "kernelspec": {
   "display_name": "spylon-kernel",
   "language": "scala",
   "name": "spylon-kernel"
  },
  "language_info": {
   "codemirror_mode": "text/x-scala",
   "file_extension": ".scala",
   "help_links": [
    {
     "text": "MetaKernel Magics",
     "url": "https://metakernel.readthedocs.io/en/latest/source/README.html"
    }
   ],
   "mimetype": "text/x-scala",
   "name": "scala",
   "pygments_lexer": "scala",
   "version": "0.4.1"
  }
 },
 "nbformat": 4,
 "nbformat_minor": 4
}
