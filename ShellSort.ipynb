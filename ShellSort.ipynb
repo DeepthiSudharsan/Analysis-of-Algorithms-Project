{
 "cells": [
  {
   "cell_type": "code",
   "execution_count": 1,
   "metadata": {},
   "outputs": [
    {
     "data": {
      "text/plain": [
       "Intitializing Scala interpreter ..."
      ]
     },
     "metadata": {},
     "output_type": "display_data"
    },
    {
     "data": {
      "text/plain": [
       "Spark Web UI available at http://192.168.2.7:4041\n",
       "SparkContext available as 'sc' (version = 3.1.1, master = local[*], app id = local-1620836888825)\n",
       "SparkSession available as 'spark'\n"
      ]
     },
     "metadata": {},
     "output_type": "display_data"
    },
    {
     "data": {
      "text/plain": [
       "import java.util.concurrent.TimeUnit\n",
       "import java.io.{BufferedWriter, FileWriter}\n",
       "import scala.collection.JavaConversions._\n",
       "import scala.collection.mutable.ListBuffer\n",
       "import scala.util.Random\n",
       "import au.com.bytecode.opencsv.CSVWriter\n"
      ]
     },
     "execution_count": 1,
     "metadata": {},
     "output_type": "execute_result"
    }
   ],
   "source": [
    "import java.util.concurrent.TimeUnit\n",
    "import java.io.{BufferedWriter, FileWriter}\n",
    "import java.io._ \n",
    "import scala.collection.JavaConversions._\n",
    "import scala.collection.mutable.ListBuffer\n",
    "import scala.util.Random\n",
    "import au.com.bytecode.opencsv.CSVWriter\n"
   ]
  },
  {
   "cell_type": "code",
   "execution_count": 2,
   "metadata": {},
   "outputs": [
    {
     "data": {
      "text/plain": [
       "shellsort: [T](a: Array[T])(implicit evidence$1: T => Ordered[T])Unit\n"
      ]
     },
     "execution_count": 2,
     "metadata": {},
     "output_type": "execute_result"
    }
   ],
   "source": [
    "def shellsort[T <% Ordered[T]] (a:Array[T]): Unit = {\n",
    "    val n=a.length\n",
    "    var gap =n/2\n",
    "    while (gap > 0)\n",
    "    {\n",
    "        var i =gap\n",
    "        while (i < n) \n",
    "        {\n",
    "            val temp = a(i)\n",
    "            var j = i\n",
    "            while (j >= gap && a(j - gap) > temp) \n",
    "            {\n",
    "                a(j) = a(j - gap)\n",
    "                j -= gap\n",
    "            }\n",
    "            a(j) = temp\n",
    "            i += 1\n",
    "        }\n",
    "        gap = gap/2\n",
    "    }\n",
    "}"
   ]
  },
  {
   "cell_type": "code",
   "execution_count": 3,
   "metadata": {},
   "outputs": [
    {
     "data": {
      "text/plain": [
       "a: Array[Double] = Array(1.0, 1.0, 2.0, 2.0, 2.0, 2.0, 3.0, 3.0, 4.0, 4.0, 4.0, 4.0, 7.0, 7.0, 12.0, 12.0, 24.0, 24.0)\n"
      ]
     },
     "execution_count": 3,
     "metadata": {},
     "output_type": "execute_result"
    }
   ],
   "source": [
    "var a = Array(1.0,3.0,2.0,4.0,12.0,7.0,2.0,4.0,24.0,1.0,3.0,2.0,4.0,12.0,7.0,2.0,4.0,24.0)                        \n",
    "shellsort(a)"
   ]
  },
  {
   "cell_type": "code",
   "execution_count": 4,
   "metadata": {},
   "outputs": [
    {
     "data": {
      "text/plain": [
       "A: Array[String] = Array(ISHA, ASMITA, DEEPTHI, ROSHANEEEEEEY)\n"
      ]
     },
     "execution_count": 4,
     "metadata": {},
     "output_type": "execute_result"
    }
   ],
   "source": [
    "var A =Array(\"ISHA\",\"ASMITA\",\"DEEPTHI\",\"ROSHANEEEEEEY\")"
   ]
  },
  {
   "cell_type": "code",
   "execution_count": 5,
   "metadata": {},
   "outputs": [],
   "source": [
    "shellsort(A)"
   ]
  },
  {
   "cell_type": "code",
   "execution_count": 6,
   "metadata": {},
   "outputs": [
    {
     "data": {
      "text/plain": [
       "res2: Array[String] = Array(ASMITA, DEEPTHI, ISHA, ROSHANEEEEEEY)\n"
      ]
     },
     "execution_count": 6,
     "metadata": {},
     "output_type": "execute_result"
    }
   ],
   "source": [
    "A"
   ]
  },
  {
   "cell_type": "code",
   "execution_count": 7,
   "metadata": {},
   "outputs": [
    {
     "data": {
      "text/plain": [
       "generate: (n: Int)Array[Int]\n"
      ]
     },
     "execution_count": 7,
     "metadata": {},
     "output_type": "execute_result"
    }
   ],
   "source": [
    "def generate(n:Int):Array[Int]=\n",
    "{\n",
    "val r = new scala.util.Random\n",
    "var l: List[Int] = List()\n",
    "\n",
    "for( x<- 1 to n )\n",
    "{\n",
    "    l=r.nextInt(100000) ::l    \n",
    "}\n",
    "var temp=l.toArray\n",
    "temp\n",
    "}"
   ]
  },
  {
   "cell_type": "code",
   "execution_count": 18,
   "metadata": {},
   "outputs": [
    {
     "data": {
      "text/plain": [
       "fileObject: java.io.File = /Users/roshantushar/Desktop/Results_DAA/Shell_Sort_Analysis.csv\n",
       "printWriter: java.io.PrintWriter = java.io.PrintWriter@4c6ddc15\n",
       "valRange: Array[Int] = Array(10, 50, 100, 200, 500, 1000, 5000, 10000, 50000, 100000, 200000, 300000, 500000, 1000000)\n"
      ]
     },
     "execution_count": 18,
     "metadata": {},
     "output_type": "execute_result"
    }
   ],
   "source": [
    "var fileObject = new File(\"/Users/roshantushar/Desktop/Results_DAA/Shell_Sort_Analysis.csv\" )  \n",
    "val printWriter = new PrintWriter(fileObject)       \n",
    " printWriter.write(\"No of elements\"+\",\"+\"time\"+\"\\n\") \n",
    "\n",
    "val valRange=Array(10,50,100,200,500,1000,5000,10000,50000,100000,200000,300000,500000,1000000)\n",
    "for(i<-0 to valRange.length-1)\n",
    "{\n",
    "    var data = generate(valRange(i))\n",
    "    var start = System.currentTimeMillis()\n",
    "    shellsort(data)\n",
    "    var end = System.currentTimeMillis()\n",
    "    var difference = end - start\n",
    "    var time=difference\n",
    "    printWriter.write(valRange(i).toString+\",\"+time.toString+\"\\n\")  // Writing to the file  \n",
    "           // Closing printwriter     \n",
    "}\n",
    "\n",
    "printWriter.close()  \n"
   ]
  }
 ],
 "metadata": {
  "kernelspec": {
   "display_name": "spylon-kernel",
   "language": "scala",
   "name": "spylon-kernel"
  },
  "language_info": {
   "codemirror_mode": "text/x-scala",
   "file_extension": ".scala",
   "help_links": [
    {
     "text": "MetaKernel Magics",
     "url": "https://metakernel.readthedocs.io/en/latest/source/README.html"
    }
   ],
   "mimetype": "text/x-scala",
   "name": "scala",
   "pygments_lexer": "scala",
   "version": "0.4.1"
  }
 },
 "nbformat": 4,
 "nbformat_minor": 4
}
