{
 "cells": [
  {
   "cell_type": "code",
   "execution_count": 1,
   "metadata": {},
   "outputs": [
    {
     "data": {
      "text/plain": [
       "Intitializing Scala interpreter ..."
      ]
     },
     "metadata": {},
     "output_type": "display_data"
    },
    {
     "data": {
      "text/plain": [
       "Spark Web UI available at http://LAPTOP-OIARJUGD:4042\n",
       "SparkContext available as 'sc' (version = 3.1.1, master = local[*], app id = local-1621495221872)\n",
       "SparkSession available as 'spark'\n"
      ]
     },
     "metadata": {},
     "output_type": "display_data"
    },
    {
     "data": {
      "text/plain": [
       "import java.util.concurrent.TimeUnit\r\n",
       "import java.io.{BufferedWriter, FileWriter}\r\n",
       "import java.io._\r\n",
       "import scala.collection.JavaConversions._\r\n",
       "import scala.collection.mutable.ListBuffer\r\n",
       "import scala.util.Random\r\n",
       "import au.com.bytecode.opencsv.CSVWriter\r\n"
      ]
     },
     "execution_count": 1,
     "metadata": {},
     "output_type": "execute_result"
    }
   ],
   "source": [
    "import java.util.concurrent.TimeUnit\n",
    "import java.io.{BufferedWriter, FileWriter}\n",
    "import java.io._ \n",
    "import scala.collection.JavaConversions._\n",
    "import scala.collection.mutable.ListBuffer\n",
    "import scala.util.Random\n",
    "import au.com.bytecode.opencsv.CSVWriter\n"
   ]
  },
  {
   "cell_type": "code",
   "execution_count": 2,
   "metadata": {},
   "outputs": [
    {
     "data": {
      "text/plain": [
       "shellsort: [T](a: Array[T])(implicit evidence$1: T => Ordered[T])Unit\r\n"
      ]
     },
     "execution_count": 2,
     "metadata": {},
     "output_type": "execute_result"
    }
   ],
   "source": [
    "def shellsort[T <% Ordered[T]] (a:Array[T]): Unit = {\n",
    "    val n=a.length\n",
    "    var gap =n/2\n",
    "    while (gap > 0)\n",
    "    {\n",
    "        var i =gap\n",
    "        while (i < n) \n",
    "        {\n",
    "            val temp = a(i)\n",
    "            var j = i\n",
    "            while (j >= gap && a(j - gap) > temp) \n",
    "            {\n",
    "                a(j) = a(j - gap)\n",
    "                j -= gap\n",
    "            }\n",
    "            a(j) = temp\n",
    "            i += 1\n",
    "        }\n",
    "        gap = gap/2\n",
    "    }\n",
    "}"
   ]
  },
  {
   "cell_type": "code",
   "execution_count": 3,
   "metadata": {},
   "outputs": [
    {
     "data": {
      "text/plain": [
       "a: Array[Double] = Array(1.0, 1.0, 2.0, 2.0, 2.0, 2.0, 3.0, 3.0, 4.0, 4.0, 4.0, 4.0, 7.0, 7.0, 12.0, 12.0, 24.0, 24.0)\r\n"
      ]
     },
     "execution_count": 3,
     "metadata": {},
     "output_type": "execute_result"
    }
   ],
   "source": [
    "var a = Array(1.0,3.0,2.0,4.0,12.0,7.0,2.0,4.0,24.0,1.0,3.0,2.0,4.0,12.0,7.0,2.0,4.0,24.0)                        \n",
    "shellsort(a)"
   ]
  },
  {
   "cell_type": "code",
   "execution_count": 7,
   "metadata": {},
   "outputs": [
    {
     "data": {
      "text/plain": [
       "generate: (n: Int)Array[Int]\r\n"
      ]
     },
     "execution_count": 7,
     "metadata": {},
     "output_type": "execute_result"
    }
   ],
   "source": [
    "def generate(n:Int):Array[Int]=\n",
    "{\n",
    "val r = new scala.util.Random\n",
    "var l: List[Int] = List()\n",
    "\n",
    "for( x<- 1 to n )\n",
    "{\n",
    "    l=r.nextInt(100000) ::l    \n",
    "}\n",
    "var temp=l.toArray\n",
    "temp\n",
    "}"
   ]
  },
  {
   "cell_type": "code",
   "execution_count": 8,
   "metadata": {},
   "outputs": [
    {
     "data": {
      "text/plain": [
       "fileObject: java.io.File = Shell_Sort_Analysis.csv\r\n",
       "printWriter: java.io.PrintWriter = java.io.PrintWriter@3737c075\r\n",
       "valRange: Array[Int] = Array(10, 50, 100, 200, 500, 1000, 5000, 10000, 50000, 100000, 200000, 300000, 500000, 1000000)\r\n"
      ]
     },
     "execution_count": 8,
     "metadata": {},
     "output_type": "execute_result"
    }
   ],
   "source": [
    "var fileObject = new File(\"Shell_Sort_Analysis.csv\" )  \n",
    "val printWriter = new PrintWriter(fileObject)       \n",
    " printWriter.write(\"No of elements\"+\",\"+\"time\"+\"\\n\") \n",
    "\n",
    "val valRange=Array(10,50,100,200,500,1000,5000,10000,50000,100000,200000,300000,500000,1000000)\n",
    "for(i<-0 to valRange.length-1)\n",
    "{\n",
    "    var data = generate(valRange(i))\n",
    "    var start = System.currentTimeMillis()\n",
    "    shellsort(data)\n",
    "    var end = System.currentTimeMillis()\n",
    "    var difference = end - start\n",
    "    var time=difference\n",
    "    printWriter.write(valRange(i).toString+\",\"+time.toString+\"\\n\")  // Writing to the file  \n",
    "           // Closing printwriter     \n",
    "}\n",
    "\n",
    "printWriter.close()  \n"
   ]
  },
  {
   "cell_type": "code",
   "execution_count": null,
   "metadata": {},
   "outputs": [],
   "source": []
  }
 ],
 "metadata": {
  "kernelspec": {
   "display_name": "spylon-kernel",
   "language": "scala",
   "name": "spylon-kernel"
  },
  "language_info": {
   "codemirror_mode": "text/x-scala",
   "file_extension": ".scala",
   "help_links": [
    {
     "text": "MetaKernel Magics",
     "url": "https://metakernel.readthedocs.io/en/latest/source/README.html"
    }
   ],
   "mimetype": "text/x-scala",
   "name": "scala",
   "pygments_lexer": "scala",
   "version": "0.4.1"
  }
 },
 "nbformat": 4,
 "nbformat_minor": 4
}
